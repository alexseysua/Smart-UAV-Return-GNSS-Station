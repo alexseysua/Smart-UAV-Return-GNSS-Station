{
 "cells": [
  {
   "cell_type": "code",
   "execution_count": null,
   "id": "da6c01ff",
   "metadata": {},
   "outputs": [],
   "source": [
    "from ultralytics import YOLO\n",
    "from PIL import Image\n",
    "import cv2\n",
    "from transformers import AutoImageProcessor, ResNetModel\n",
    "from torchvision.transforms.functional import pil_to_tensor\n",
    "import torch\n",
    "import numpy as np"
   ]
  },
  {
   "cell_type": "code",
   "execution_count": null,
   "id": "118acb8c",
   "metadata": {},
   "outputs": [],
   "source": [
    "seg_model = YOLO('../segmentation/dronuniver_yolov8nseg.pt')\n",
    "emb_processor = AutoImageProcessor.from_pretrained(\"microsoft/resnet-50\")\n",
    "emb_model = ResNetModel.from_pretrained(\"mask_recognition\")"
   ]
  },
  {
   "cell_type": "code",
   "execution_count": null,
   "id": "58189305",
   "metadata": {},
   "outputs": [],
   "source": [
    "def get_pred(img_path):\n",
    "    img = Image.open(img_path)\n",
    "    return seg_model(img)[0]"
   ]
  },
  {
   "cell_type": "code",
   "execution_count": null,
   "id": "d4050079",
   "metadata": {},
   "outputs": [],
   "source": [
    "def get_boxes(preds):\n",
    "    return preds.boxes.xywh.int()"
   ]
  },
  {
   "cell_type": "code",
   "execution_count": null,
   "id": "50d25546",
   "metadata": {},
   "outputs": [],
   "source": [
    "def get_masks(preds):\n",
    "    return [mask.astype(int) for mask in preds.masks.xy]"
   ]
  },
  {
   "cell_type": "code",
   "execution_count": null,
   "id": "8738164d",
   "metadata": {},
   "outputs": [],
   "source": [
    "def get_crops(img_path, preds):\n",
    "    img = cv2.imread(img_path)\n",
    "    boxes = get_boxes(preds)\n",
    "    masks = get_masks(preds)\n",
    "    crops = []\n",
    "    for i, box in enumerate(boxes):\n",
    "        x,y,w,h = box\n",
    "        crop = img[y:y+h, x:x+w].copy()\n",
    "        masks[i] = masks[i] - masks[i].min(axis=0)\n",
    "        mask = np.zeros(crop.shape[:2], np.uint8)\n",
    "        cv2.drawContours(mask, [masks[i]], -1, 255, -1)\n",
    "        crops.append(cv2.bitwise_and(crop, crop, mask=mask))\n",
    "    return crops"
   ]
  },
  {
   "cell_type": "code",
   "execution_count": null,
   "id": "be9f7d74",
   "metadata": {},
   "outputs": [],
   "source": [
    "def get_embeddings(crops):\n",
    "    embeddings = []\n",
    "    for crop in crops:\n",
    "        img = cv2.cvtColor(crop, cv2.COLOR_BGR2RGB)\n",
    "        im_pil = Image.fromarray(img)\n",
    "        im_pil = torch.clamp(pil_to_tensor(im_pil.resize((32, 32))) / 255, 0, 1)\n",
    "        inputs = emb_processor(im_pil, return_tensors=\"pt\")\n",
    "        with torch.no_grad():\n",
    "            outputs = emb_model(**inputs).pooler_output\n",
    "        embeddings.append(outputs)\n",
    "    return embeddings"
   ]
  },
  {
   "cell_type": "code",
   "execution_count": null,
   "id": "61cab427",
   "metadata": {},
   "outputs": [],
   "source": [
    "pred = get_pred('ф.png')"
   ]
  },
  {
   "cell_type": "code",
   "execution_count": null,
   "id": "8ed8edaf",
   "metadata": {
    "scrolled": true
   },
   "outputs": [],
   "source": [
    "boxes = get_boxes(pred)\n",
    "boxes"
   ]
  },
  {
   "cell_type": "code",
   "execution_count": null,
   "id": "f616af8a",
   "metadata": {},
   "outputs": [],
   "source": [
    "masks = get_masks(pred)\n",
    "masks"
   ]
  },
  {
   "cell_type": "code",
   "execution_count": null,
   "id": "0544ce57",
   "metadata": {},
   "outputs": [],
   "source": [
    "crops = get_crops('ф.png', pred)"
   ]
  },
  {
   "cell_type": "code",
   "execution_count": null,
   "id": "7e5be575",
   "metadata": {},
   "outputs": [],
   "source": [
    "emb = get_embeddings(crops)"
   ]
  },
  {
   "cell_type": "code",
   "execution_count": null,
   "id": "f86917e9",
   "metadata": {},
   "outputs": [],
   "source": [
    "emb"
   ]
  },
  {
   "cell_type": "code",
   "execution_count": null,
   "id": "a27618e7",
   "metadata": {},
   "outputs": [],
   "source": []
  }
 ],
 "metadata": {
  "kernelspec": {
   "display_name": "Python 3 (ipykernel)",
   "language": "python",
   "name": "python3"
  },
  "language_info": {
   "codemirror_mode": {
    "name": "ipython",
    "version": 3
   },
   "file_extension": ".py",
   "mimetype": "text/x-python",
   "name": "python",
   "nbconvert_exporter": "python",
   "pygments_lexer": "ipython3",
   "version": "3.12.3"
  }
 },
 "nbformat": 4,
 "nbformat_minor": 5
}
