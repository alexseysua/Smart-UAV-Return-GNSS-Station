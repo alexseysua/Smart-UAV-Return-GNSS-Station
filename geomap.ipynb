{
 "cells": [
  {
   "cell_type": "code",
   "execution_count": 23,
   "metadata": {},
   "outputs": [],
   "source": [
    "import cv2\n",
    "import numpy as np\n",
    "import osmapi\n",
    "\n",
    "from geopy.distance import geodesic"
   ]
  },
  {
   "cell_type": "code",
   "execution_count": 24,
   "metadata": {},
   "outputs": [],
   "source": [
    "COLORSCHEME = {\n",
    "        'building' : (0, 0, 255),\n",
    "        'waterway' : (255, 0, 0),\n",
    "        'natural' : (0, 255, 0),\n",
    "        'leisure' : (0, 128, 128),\n",
    "        'highway' : (0, 128, 128)\n",
    "    }\n",
    "\n",
    "LIMIT_WIDTH = LIMIT_HEIGHT = 1500\n",
    "\n",
    "api = osmapi.OsmApi()"
   ]
  },
  {
   "cell_type": "code",
   "execution_count": 25,
   "metadata": {},
   "outputs": [],
   "source": [
    "def area_sectorization(min_lon : float, min_lat : float, max_lon : float, max_lat : float) -> list[list[float]]:\n",
    "    width = int(geodesic((min_lat, min_lon), (min_lat, max_lon)).kilometers * 1000)\n",
    "    height = int(geodesic((min_lat, min_lon), (max_lat, min_lon)).kilometers * 1000)\n",
    "    width_ratio = int(np.ceil(width / LIMIT_WIDTH))\n",
    "    height_ratio = int(np.ceil(height / LIMIT_HEIGHT))\n",
    "    delta_lon = (max_lon - min_lon) / width_ratio\n",
    "    delta_lat = (max_lat - min_lat) / height_ratio\n",
    "    sectors = []\n",
    "    for i in range(width_ratio):\n",
    "        for j in range(height_ratio):\n",
    "            sectors.append([min_lon + i*delta_lon, min_lat + j*delta_lat,\n",
    "                            min_lon + (i+1)*delta_lon, min_lat + (j+1)*delta_lat])\n",
    "    return sectors\n"
   ]
  },
  {
   "cell_type": "code",
   "execution_count": 26,
   "metadata": {},
   "outputs": [
    {
     "data": {
      "text/plain": [
       "[[30.3083, 59.8911, 30.323, 59.8979],\n",
       " [30.3083, 59.8979, 30.323, 59.9047],\n",
       " [30.323, 59.8911, 30.3377, 59.8979],\n",
       " [30.323, 59.8979, 30.3377, 59.9047]]"
      ]
     },
     "execution_count": 26,
     "metadata": {},
     "output_type": "execute_result"
    }
   ],
   "source": [
    "sectors = area_sectorization(30.3083, 59.8911, 30.3377, 59.9047)\n",
    "\n",
    "sectors"
   ]
  },
  {
   "cell_type": "code",
   "execution_count": 27,
   "metadata": {},
   "outputs": [],
   "source": [
    "def get_map_visualization(min_lon : float, min_lat : float, max_lon : float, max_lat : float) -> np.array:\n",
    "    height = int(geodesic((min_lat, min_lon), (min_lat, max_lon)).kilometers * 1000)\n",
    "    width = int(geodesic((min_lat, min_lon), (max_lat, min_lon)).kilometers * 1000)\n",
    "    image = np.zeros((width, height, 3), np.uint8)\n",
    "    sectors = area_sectorization(min_lon, min_lat, max_lon, max_lat)\n",
    "    all_nodes = []\n",
    "    for sector in sectors:\n",
    "        all_nodes += api.Map(*sector)\n",
    "    print(len(all_nodes))\n",
    "    nodes = {node['data']['id'] : node['data'] for node in all_nodes if node['type'] == 'node'}\n",
    "    ways = {node['data']['id'] : node['data'] for node in all_nodes if node['type'] == 'way'}\n",
    "    for way_id in ways.keys():\n",
    "        way = ways[way_id]\n",
    "        way_tags = way['tag']\n",
    "        visible = False\n",
    "        for tag in way_tags:\n",
    "            if tag in COLORSCHEME.keys():\n",
    "                visible = True\n",
    "                main_tag = tag\n",
    "                break\n",
    "\n",
    "        if not visible: continue\n",
    "\n",
    "        node_cords = []\n",
    "        for node_id in way['nd']:\n",
    "            node = nodes[node_id]\n",
    "            node_cord_y = int(geodesic((max_lat, min_lon), (node['lat'], min_lon)).kilometers * 1000)\n",
    "            node_cord_x = int(geodesic((max_lat, min_lon), (max_lat, node['lon'])).kilometers * 1000)\n",
    "            node_cords.append([node_cord_x, node_cord_y])\n",
    "        node_cords = np.array(node_cords, np.int32)\n",
    "        node_cords = node_cords.reshape((-1, 1, 2))\n",
    "        cv2.polylines(image, [node_cords], True, COLORSCHEME[main_tag])\n",
    "    return image\n"
   ]
  },
  {
   "cell_type": "code",
   "execution_count": 28,
   "metadata": {},
   "outputs": [
    {
     "name": "stdout",
     "output_type": "stream",
     "text": [
      "135764\n"
     ]
    },
    {
     "data": {
      "text/plain": [
       "True"
      ]
     },
     "execution_count": 28,
     "metadata": {},
     "output_type": "execute_result"
    }
   ],
   "source": [
    "result = get_map_visualization(30.2803, 59.9266, 30.3391, 59.9538)\n",
    "cv2.imwrite('map.png', result)"
   ]
  }
 ],
 "metadata": {
  "kernelspec": {
   "display_name": ".venv",
   "language": "python",
   "name": "python3"
  },
  "language_info": {
   "codemirror_mode": {
    "name": "ipython",
    "version": 3
   },
   "file_extension": ".py",
   "mimetype": "text/x-python",
   "name": "python",
   "nbconvert_exporter": "python",
   "pygments_lexer": "ipython3",
   "version": "3.11.8"
  }
 },
 "nbformat": 4,
 "nbformat_minor": 2
}
